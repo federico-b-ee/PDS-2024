{
 "cells": [
  {
   "cell_type": "markdown",
   "metadata": {},
   "source": [
    "<img src=\"../logo_UTN.svg\" align=\"right\" width=\"150\" /> \n",
    "\n",
    "#### Procesamiento Digital de Señales\n",
    "\n",
    "# Trabajo Práctico Nº8\n",
    "#### Federico Borello"
   ]
  },
  {
   "cell_type": "markdown",
   "metadata": {},
   "source": [
    "# Estimación Espectral de Potencia con Electrocardiograma"
   ]
  },
  {
   "cell_type": "code",
   "execution_count": 1,
   "metadata": {},
   "outputs": [],
   "source": [
    "# @title: SetUp\n",
    "import matplotlib.pyplot as plt\n",
    "import numpy as np\n",
    "from scipy import signal\n",
    "import scipy.io as sio\n",
    "\n",
    "\n",
    "def vertical_flaten(a):\n",
    "    return a.reshape(a.shape[0], 1)\n",
    "\n",
    "\n",
    "def calculate_psd_welch(signal_data, fs):\n",
    "    # Seteo los \"bins\" del metodo welch a N/5, siendo N el largo de la señal.\n",
    "    f, Pxx = signal.welch(signal_data, fs, nperseg=len(signal_data) // 5)\n",
    "    Pxx_normalized = Pxx / np.sum(Pxx)\n",
    "    return f, Pxx_normalized"
   ]
  },
  {
   "cell_type": "markdown",
   "metadata": {},
   "source": [
    "# Seteo las Señales"
   ]
  },
  {
   "cell_type": "code",
   "execution_count": null,
   "metadata": {},
   "outputs": [],
   "source": [
    "# Audio, ECG, PPG y Código original de la cátedra:\n",
    "# https://github.com/marianux/pdstestbench/blob/4daeac9affd62217f4bafb8d7b8ec20834ba2a14/lectura_sigs.py\n",
    "\n",
    "#######################################\n",
    "# Lectura de Electrocardiograma (ECG) #\n",
    "#######################################\n",
    "\n",
    "# Información Util Sobre ECG:\n",
    "# https://www.ncbi.nlm.nih.gov/books/NBK2214/\n",
    "\n",
    "fs_ecg = 1000  # Hz\n",
    "\n",
    "mat_struct = sio.loadmat(\"./ECG_TP4.mat\")\n",
    "\n",
    "ecg_one_lead = vertical_flaten(mat_struct[\"ecg_lead\"])\n",
    "\n",
    "# Latido normal\n",
    "hb_1 = hb_n = vertical_flaten(mat_struct[\"heartbeat_pattern1\"])\n",
    "# Latido origen ventricular\n",
    "hb_2 = hb_v = vertical_flaten(mat_struct[\"heartbeat_pattern2\"])\n",
    "# Complejo QRS normal\n",
    "# https://en.wikipedia.org/wiki/QRS_complex\n",
    "qrs_p1 = vertical_flaten(mat_struct[\"qrs_pattern1\"])\n",
    "# Vector de localización de los picos donde ocurren los latidos\n",
    "qrs_d = vertical_flaten(mat_struct[\"qrs_detections\"])\n",
    "\n",
    "plt.figure(figsize=(12, 8))\n",
    "\n",
    "plt.subplot(2, 2, 1)\n",
    "plt.plot(ecg_one_lead[24000:28000])\n",
    "plt.title(\"ECG One Lead\")\n",
    "\n",
    "plt.subplot(2, 2, 2)\n",
    "plt.plot(hb_1)\n",
    "plt.title(\"Latido Origen Normal\")\n",
    "\n",
    "plt.subplot(2, 2, 3)\n",
    "plt.plot(hb_2)\n",
    "plt.title(\"Latido Origen Ventricular\")\n",
    "\n",
    "plt.subplot(2, 2, 4)\n",
    "plt.plot(qrs_p1)\n",
    "plt.title(\"QRS Pattern 1\")\n",
    "\n",
    "plt.show()"
   ]
  },
  {
   "cell_type": "code",
   "execution_count": null,
   "metadata": {},
   "outputs": [],
   "source": [
    "plt.figure(figsize=(24, 8))\n",
    "plt.plot(ecg_one_lead[:30000])\n",
    "plt.title(\"ECG One Lead\")\n",
    "plt.show()"
   ]
  },
  {
   "cell_type": "markdown",
   "metadata": {},
   "source": [
    "# Cálculo de la Estimación Espectral de Potencia - Total de la Señal"
   ]
  },
  {
   "cell_type": "code",
   "execution_count": null,
   "metadata": {},
   "outputs": [],
   "source": [
    "f_total, Pxx_ecg_total = calculate_psd_welch(ecg_one_lead.flatten(), fs_ecg)\n",
    "\n",
    "plt.figure(figsize=(24, 8))\n",
    "\n",
    "plt.subplot(1, 3, 1)\n",
    "plt.semilogy(f_total, Pxx_ecg_total)\n",
    "plt.title(\"Densidad Espectral de Potencia - Total\")\n",
    "plt.xlabel(\"Frecuencia [Hz]\")\n",
    "plt.ylabel(\"PSD [V^2/Hz]\")\n",
    "\n",
    "plt.subplot(1, 3, 2)\n",
    "plt.title(\"Densidad Espectral de Potencia - Zoom 50hz\")\n",
    "plt.semilogy(f_total[:10000], Pxx_ecg_total[:10000])\n",
    "\n",
    "plt.subplot(1, 3, 3)\n",
    "plt.title(\"Densidad Espectral de Potencia - Zoom 5hz\")\n",
    "plt.semilogy(f_total[:1000], Pxx_ecg_total[:1000])\n",
    "\n",
    "plt.grid()\n",
    "plt.tight_layout()\n",
    "plt.show()"
   ]
  },
  {
   "cell_type": "markdown",
   "metadata": {},
   "source": [
    "# Cálculo de la Estimación Espectral de Potencia - 10s\n",
    "\n",
    "Se realiza la estimación de Potencia utilizando los primeros 10 segundos de la señal.\n",
    "Y se grafica la PSD de un látido normal, otro ventricular y el complejo QRS."
   ]
  },
  {
   "cell_type": "code",
   "execution_count": null,
   "metadata": {},
   "outputs": [],
   "source": [
    "plt.figure(figsize=(24, 8))\n",
    "\n",
    "f, Pxx_ecg_10s = calculate_psd_welch(ecg_one_lead[:10000].flatten(), fs_ecg)\n",
    "plt.subplot(1, 3, 1)\n",
    "plt.semilogy(f, Pxx_ecg_10s)\n",
    "plt.title(\"Densidad Espectral de Potencia - ECG 10s\")\n",
    "plt.xlabel(\"Frecuencia [Hz]\")\n",
    "plt.ylabel(\"PSD [V^2/Hz]\")\n",
    "\n",
    "plt.subplot(1, 3, 2)\n",
    "plt.title(\"Densidad Espectral de Potencia - Zoom 50hz\")\n",
    "plt.semilogy(f[:100], Pxx_ecg_10s[:100])\n",
    "\n",
    "plt.subplot(1, 3, 3)\n",
    "plt.title(\"Densidad Espectral de Potencia - Zoom 5hz\")\n",
    "plt.semilogy(f[:10], Pxx_ecg_10s[:10])\n",
    "\n",
    "plt.grid()\n",
    "plt.tight_layout()\n",
    "plt.show()"
   ]
  },
  {
   "cell_type": "markdown",
   "metadata": {},
   "source": [
    "# Cálculo de la Estimación Espectral de Potencia - ventanas específicas\n",
    "\n",
    "La PSD de todas las realizaciones de latidos en una ventana que va desde ($R_i$ - 250 ms ; $R_i$ + 350 ms) para los i-ésimos latidos."
   ]
  },
  {
   "cell_type": "code",
   "execution_count": null,
   "metadata": {},
   "outputs": [],
   "source": [
    "# Función para calcular la PSD en ventanas alrededor de los picos QRS\n",
    "def calculate_windowed_ecg_psd_welch(ecg_data, fs, qrs_d):\n",
    "    all_Pxx = []\n",
    "    f = fs\n",
    "    for r in qrs_d:\n",
    "        if r < 250 or r > (len(ecg_data) - 350):\n",
    "            continue\n",
    "        window = ecg_data[int(r - 250) : int(r + 350)]\n",
    "        f, Pxx = calculate_psd_welch(window, fs)\n",
    "        all_Pxx.append(Pxx)\n",
    "\n",
    "    # Promedio de todas las PSDs\n",
    "    if len(all_Pxx) == 0:\n",
    "        avg_Pxx = 0\n",
    "    else:\n",
    "        avg_Pxx = np.mean(all_Pxx, axis=0)\n",
    "    return f, all_Pxx, avg_Pxx\n",
    "\n",
    "\n",
    "f_ecg_one_lead_n, all_Pxx_ecg_one_lead, avg_Pxx_ecg_one_lead = (\n",
    "    calculate_windowed_ecg_psd_welch(ecg_one_lead.flatten(), fs_ecg, qrs_d)\n",
    ")\n",
    "for Pxx in all_Pxx_ecg_one_lead:\n",
    "    plt.semilogy(f_ecg_one_lead_n, Pxx, \"b\")\n",
    "plt.title(\"Densidad Espectral de Potencia - Por Latido\")\n",
    "plt.xlabel(\"Frecuencia [Hz]\")\n",
    "plt.ylabel(\"PSD [V^2/Hz]\")\n",
    "plt.grid()\n",
    "\n",
    "# Ploteo de la PSD promedio\n",
    "plt.semilogy(f_ecg_one_lead_n, avg_Pxx_ecg_one_lead, \"r\", label=\"Promedio\")\n",
    "plt.legend()\n",
    "plt.tight_layout()\n",
    "plt.show()"
   ]
  },
  {
   "cell_type": "markdown",
   "metadata": {},
   "source": [
    "# Defina la plantilla del filtro\n",
    "\n",
    "- fs0 = ?? # fin de la banda de detenida 0\n",
    "- fc0 = ?? # comienzo de la banda de paso\n",
    "- fc1 = ?? # fin de la banda de paso\n",
    "- fs1 = ?? # comienzo de la banda de detenida 1"
   ]
  },
  {
   "cell_type": "code",
   "execution_count": null,
   "metadata": {},
   "outputs": [],
   "source": [
    "# Calculo del Fin de la Banda de Paso\n",
    "\n",
    "import sys\n",
    "import os\n",
    "\n",
    "sys.path.append(os.path.abspath(\"..\"))\n",
    "from pds_utils import bandwith\n",
    "\n",
    "# Se calcula la frecuencia hasta la cual se encuentra el 99%\n",
    "# de la energía del espectrodel promedio de todos los latidos\n",
    "bw = bandwith.calculate_bandwidth(f_ecg_one_lead_n, avg_Pxx_ecg_one_lead, 0.99)\n",
    "\n",
    "print(bw)\n",
    "\n",
    "# Se calcula la frecuencia inferior de la banda de paso\n",
    "# Se toma el umbral de -3dB\n",
    "# Se busca el primer valor que supera el umbral, se multiplica por 1/sqrt(2) == 0.7\n",
    "# ya que -3dB es 0.7 veces el valor máximo\n",
    "\n",
    "threshold = 1 / np.sqrt(2) * np.max(Pxx)  # Umbral -3 dB\n",
    "lower_limit = f[np.where(Pxx >= threshold)[0][0]]\n",
    "\n",
    "print(f\"Lower Limit: {lower_limit} Hz\")"
   ]
  },
  {
   "cell_type": "markdown",
   "metadata": {},
   "source": [
    "Con este cálculo, que es el mismo realizado en la TS7 (ahora se utiliza desde un módulo), se observa que podemos utilizar un valor de $40 \\, [Hz]$ como fin de la banda de paso para obtener una frecuencia redondeada.\n",
    "\n",
    "Se nota que el límite inferior calculado es $0 \\, [Hz]$, debido a la forma en que se calcula el ancho de banda. Para obtener el valor inferior, utilizamos el criterio de los $-3 \\, [dB]$, lo que resulta en $0.5 \\, [Hz]$.\n",
    "\n",
    "A continuación, se aplica el método Welch a la totalidad de los latidos registrados, con la particularidad de que se aplicará un `detrend` para eliminar el ruido y las frecuencias bajas. Además, se utilizará la longitud de la señal como la cantidad de ventanas.\n"
   ]
  },
  {
   "cell_type": "code",
   "execution_count": null,
   "metadata": {},
   "outputs": [],
   "source": [
    "# Función para calcular la PSD en ventanas alrededor de los picos QRS\n",
    "def calculate_windowed_ecg_psd_welch(ecg_data, fs, qrs_d):\n",
    "    all_Pxx = []\n",
    "    f = fs\n",
    "    for r in qrs_d:\n",
    "        if r < 250 or r > (len(ecg_data) - 350):\n",
    "            continue\n",
    "        window = ecg_data[int(r - 250) : int(r + 350)]\n",
    "        # Aplicamos detrend a la señal para eliminar la componente continua o el ruido de baja frecuencia\n",
    "        f, Pxx = signal.welch(window, fs, nperseg=len(window), detrend=\"linear\")\n",
    "        Pxx = Pxx / np.sum(Pxx)\n",
    "        all_Pxx.append(Pxx)\n",
    "\n",
    "    # Promedio de todas las PSDs\n",
    "    if len(all_Pxx) == 0:\n",
    "        avg_Pxx = 0\n",
    "    else:\n",
    "        avg_Pxx = np.mean(all_Pxx, axis=0)\n",
    "    return f, all_Pxx, avg_Pxx\n",
    "\n",
    "\n",
    "f_avg_detrend, all_Pxx_detrend, avg_Pxx_detrend = calculate_windowed_ecg_psd_welch(\n",
    "    ecg_one_lead.flatten(), fs_ecg, qrs_d\n",
    ")\n",
    "\n",
    "\n",
    "bw = bandwith.calculate_bandwidth(f_avg_detrend, avg_Pxx_detrend, 0.99)\n",
    "\n",
    "print(bw)\n",
    "\n",
    "threshold = 1 / np.sqrt(2) * np.max(Pxx)  # Umbral -3 dB\n",
    "lower_limit = f[np.where(Pxx >= threshold)[0][0]]\n",
    "\n",
    "print(f\"Lower Limit: {lower_limit} Hz\")\n",
    "\n",
    "plt.semilogy(f_avg_detrend, avg_Pxx_detrend)\n",
    "plt.title(\"Densidad Espectral de Potencia - ECG Promedio Detrend\")\n",
    "plt.xlabel(\"Frecuencia [Hz]\")\n",
    "plt.ylabel(\"PSD [V^2/Hz]\")\n",
    "plt.grid()\n",
    "plt.tight_layout()\n",
    "plt.show()"
   ]
  },
  {
   "cell_type": "markdown",
   "metadata": {},
   "source": [
    "El `detrend` parece no influir al promediar mucha cantidad de señales/latidos, utilizar el largo de la señal como la cantidad de ventanas del metodo welch genera la principal diferencia.\n",
    "\n",
    "Se observa que el criterio de los $-3 \\, [dB]$ nos proporciona un límite inferior de $0.5 \\, [Hz]$. Sin embargo, al calcular el ancho de banda, obtenemos un límite inferior de $1.67 \\, [Hz]$. Por lo tanto, se propone utilizar un valor de $1 \\, [Hz]$ como comienzo de la banda de paso.\n",
    "\n",
    "Finalmente, para las bandas de corte o bandas detenidas inferior y superior, se sugiere utilizar $0.5 \\, [Hz]$ como banda detenida inferior y $41 \\, [Hz]$ como banda detenida superior para dejar un margen adecuado.\n",
    "\n",
    "La plantilla del filtro quedaría de la siguiente forma:\n",
    "- fs0 = $0.5 \\, [Hz]$\n",
    "- fc0 = $1 \\, [Hz]$\n",
    "- fc1 = $40 \\, [Hz]$\n",
    "- fs1 = $41 \\, [Hz]$\n"
   ]
  }
 ],
 "metadata": {
  "kernelspec": {
   "display_name": "Python 3",
   "language": "python",
   "name": "python3"
  },
  "language_info": {
   "codemirror_mode": {
    "name": "ipython",
    "version": 3
   },
   "file_extension": ".py",
   "mimetype": "text/x-python",
   "name": "python",
   "nbconvert_exporter": "python",
   "pygments_lexer": "ipython3",
   "version": "3.10.12"
  }
 },
 "nbformat": 4,
 "nbformat_minor": 2
}
