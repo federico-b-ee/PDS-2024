{
 "cells": [
  {
   "cell_type": "markdown",
   "metadata": {},
   "source": [
    "<img src=\"../logo_UTN.svg\" align=\"right\" width=\"150\" /> \n",
    "\n",
    "#### Procesamiento Digital de Señales\n",
    "\n",
    "# Trabajo Práctico Nº9\n",
    "#### Federico Borello"
   ]
  },
  {
   "cell_type": "markdown",
   "metadata": {},
   "source": [
    "# Filtrado Digital\n",
    "\n",
    "Se sigue la [guía de laboratorio](https://nbviewer.org/github/marianux/jupytest/blob/master/Laboratorio%20de%20filtrado%20digital.ipynb) propuesta por la cátedra."
   ]
  },
  {
   "cell_type": "markdown",
   "metadata": {},
   "source": [
    "# Seteo las Señales"
   ]
  },
  {
   "cell_type": "code",
   "execution_count": 1,
   "metadata": {},
   "outputs": [
    {
     "name": "stderr",
     "output_type": "stream",
     "text": [
      "/home/fb/.local/lib/python3.10/site-packages/matplotlib/projections/__init__.py:63: UserWarning: Unable to import Axes3D. This may be due to multiple versions of Matplotlib being installed (e.g. as a system package and as a pip package). As a result, the 3D projection is not available.\n",
      "  warnings.warn(\"Unable to import Axes3D. This may be due to multiple versions of \"\n"
     ]
    }
   ],
   "source": [
    "# Audio, ECG, PPG y Código original de la cátedra:\n",
    "# https://nbviewer.org/github/marianux/jupytest/blob/master/Laboratorio%20de%20filtrado%20digital.ipynb\n",
    "\n",
    "import scipy.signal as sig\n",
    "import numpy as np\n",
    "import matplotlib as mpl\n",
    "import matplotlib.pyplot as plt\n",
    "import scipy.io as sio\n",
    "from pytc2.sistemas_lineales import plot_plantilla\n",
    "\n",
    "fig_sz_x = 10\n",
    "fig_sz_y = 7\n",
    "fig_dpi = 100  # dpi\n",
    "\n",
    "fig_font_size = 16\n",
    "\n",
    "mpl.rcParams[\"figure.figsize\"] = (fig_sz_x, fig_sz_y)\n",
    "plt.rcParams.update({\"font.size\": fig_font_size})\n",
    "\n",
    "sio.whosmat(\"../TS8/ECG_TP4.mat\")\n",
    "mat_struct = sio.loadmat(\"../TS8/ECG_TP4.mat\")\n",
    "\n",
    "ecg_one_lead = mat_struct[\"ecg_lead\"]\n",
    "ecg_one_lead = ecg_one_lead.flatten()\n",
    "cant_muestras = len(ecg_one_lead)\n",
    "\n",
    "fs = 1000  # Hz\n",
    "nyq_frec = fs / 2"
   ]
  },
  {
   "cell_type": "code",
   "execution_count": null,
   "metadata": {},
   "outputs": [],
   "source": [
    "plt.figure(figsize=(24, 8))\n",
    "plt.plot(ecg_one_lead[:30000])\n",
    "plt.title(\"ECG One Lead\")\n",
    "plt.show()"
   ]
  },
  {
   "cell_type": "markdown",
   "metadata": {},
   "source": [
    "# Plantilla de Filtro con pytc2"
   ]
  },
  {
   "cell_type": "code",
   "execution_count": null,
   "metadata": {},
   "outputs": [],
   "source": [
    "# Plantilla\n",
    "\n",
    "# filter design\n",
    "ripple = 0.1  # dB\n",
    "atenuacion = 40  # dB\n",
    "\n",
    "ws1 = 1.0  # Hz\n",
    "wp1 = 3.0  # Hz\n",
    "wp2 = 25.0  # Hz\n",
    "ws2 = 35.0  # Hz\n",
    "\n",
    "frecs = np.array([0.0, ws1, wp1, wp2, ws2, nyq_frec]) / nyq_frec\n",
    "gains = np.array([-atenuacion, -atenuacion, -ripple, -ripple, -atenuacion, -atenuacion])\n",
    "gains = 10 ** (gains / 20)\n",
    "\n",
    "plt.title(\"Plantilla del filtro\")\n",
    "plt.xlabel(\"Frecuencia [Hz]\")\n",
    "plt.ylabel(\"Módulo [dB]\")\n",
    "plt.grid()\n",
    "plt.axis([0, 100, -60, 5])\n",
    "\n",
    "plot_plantilla(\n",
    "    filter_type=\"bandpass\",\n",
    "    fpass=frecs[[2, 3]] * nyq_frec,\n",
    "    ripple=ripple,\n",
    "    fstop=frecs[[1, 4]] * nyq_frec,\n",
    "    attenuation=atenuacion,\n",
    "    fs=fs,\n",
    ")"
   ]
  },
  {
   "cell_type": "markdown",
   "metadata": {},
   "source": [
    "# Se diseña el filtro FIR\n",
    "\n",
    "Se utiliza `firwin2` con la window \"cosine\"."
   ]
  },
  {
   "cell_type": "code",
   "execution_count": null,
   "metadata": {},
   "outputs": [],
   "source": [
    "cant_coeficientes = 10001\n",
    "\n",
    "# El \"filtro\" es el numerador de la transferencia. Por ser un FIR, el denominador es 1.\n",
    "num_win = sig.firwin2(cant_coeficientes, frecs, gains, window=\"cosine\")\n",
    "den = 1.0\n",
    "\n",
    "# muestreo el filtro donde me interesa verlo según la plantilla.\n",
    "w = np.append(np.logspace(-1, 0.8, 250), np.logspace(0.9, 1.6, 250))\n",
    "w = np.append(w, np.linspace(110, nyq_frec, 100, endpoint=True)) / nyq_frec * np.pi\n",
    "\n",
    "_, hh_win = sig.freqz(num_win, den, w)\n",
    "\n",
    "# renormalizo el eje de frecuencia\n",
    "w = w / np.pi * nyq_frec\n",
    "\n",
    "plt.plot(w, 20 * np.log10(abs(hh_win)), label=\"FIR - Coeficientes {:d}\".format(num_win.shape[0]))\n",
    "\n",
    "plt.title(\"Filtro FIR\")\n",
    "plt.xlabel(\"Frecuencia [Hz]\")\n",
    "plt.ylabel(\"Módulo [dB]\")\n",
    "plt.grid()\n",
    "plt.axis([0, 100, -60, 5])\n",
    "plt.legend()\n",
    "\n",
    "plot_plantilla(\n",
    "    filter_type=\"bandpass\",\n",
    "    fpass=frecs[[2, 3]] * nyq_frec,\n",
    "    ripple=ripple,\n",
    "    fstop=frecs[[1, 4]] * nyq_frec,\n",
    "    attenuation=atenuacion,\n",
    "    fs=fs,\n",
    ")"
   ]
  },
  {
   "cell_type": "markdown",
   "metadata": {},
   "source": [
    "# Se diseña el filtro IIR\n",
    "\n",
    "Utilizando `iirdesign` con el parametro \"sos\" (second order sections)."
   ]
  },
  {
   "cell_type": "code",
   "execution_count": null,
   "metadata": {},
   "outputs": [],
   "source": [
    "# second-order sections (recommended): 'sos'\n",
    "sos = sig.iirdesign(\n",
    "    ws=[ws1, ws2],\n",
    "    wp=[wp1, wp2],\n",
    "    gpass=ripple,\n",
    "    gstop=atenuacion,\n",
    "    fs=fs,\n",
    "    output=\"sos\",\n",
    ")\n",
    "\n",
    "w, h = sig.sosfreqz(sos, worN=100000)\n",
    "w = w / np.pi * nyq_frec\n",
    "\n",
    "# Se usa un epsilon para evitar logaritmos de 0\n",
    "e = 1e-15\n",
    "plt.plot(\n",
    "    w,\n",
    "    20 * np.log10(abs(h)+e),\n",
    "    label=\"IIR\",\n",
    ")\n",
    "\n",
    "plt.title(\"Filtro IIR\")\n",
    "plt.xlabel(\"Frecuencia [Hz]\")\n",
    "plt.ylabel(\"Módulo [dB]\")\n",
    "plt.grid()\n",
    "plt.axis([0, 100, -60, 5])\n",
    "plt.legend()\n",
    "\n",
    "plot_plantilla(\n",
    "    filter_type=\"bandpass\",\n",
    "    fpass=frecs[[2, 3]] * nyq_frec,\n",
    "    ripple=ripple,\n",
    "    fstop=frecs[[1, 4]] * nyq_frec,\n",
    "    attenuation=atenuacion,\n",
    "    fs=fs,\n",
    ")"
   ]
  }
 ],
 "metadata": {
  "kernelspec": {
   "display_name": "Python 3",
   "language": "python",
   "name": "python3"
  },
  "language_info": {
   "codemirror_mode": {
    "name": "ipython",
    "version": 3
   },
   "file_extension": ".py",
   "mimetype": "text/x-python",
   "name": "python",
   "nbconvert_exporter": "python",
   "pygments_lexer": "ipython3",
   "version": "3.10.12"
  }
 },
 "nbformat": 4,
 "nbformat_minor": 2
}
